{
 "cells": [
  {
   "cell_type": "markdown",
   "metadata": {},
   "source": [
    "##  Load data into Environment"
   ]
  },
  {
   "cell_type": "code",
   "execution_count": null,
   "metadata": {},
   "outputs": [],
   "source": [
    "import numpy as np \n",
    "import pandas as pd\n",
    "\n",
    "\n",
    "sms_data=pd.read_csv('spam.csv',encoding='latin-1')\n",
    "\n",
    "print(sms_data.head())\n",
    "\n",
    "cols=sms_data.columns[:2]\n",
    "data=sms_data[cols]\n",
    "print(data.shape)\n",
    "data=data.rename(columns={\"v1\":\"Value\",'v2':'Text'})\n",
    "\n",
    "print(data.Value.value_counts())"
   ]
  },
  {
   "cell_type": "markdown",
   "metadata": {},
   "source": [
    "# Feature Engineering"
   ]
  },
  {
   "cell_type": "code",
   "execution_count": null,
   "metadata": {},
   "outputs": [],
   "source": [
    "import re\n",
    "import nltk\n",
    "from nltk import word_tokenize\n",
    "from string import punctuation\n",
    "\n",
    "punctuation=list(punctuation)\n",
    "\n",
    "# Creating a new feature called Punctuations. \n",
    "# This feature counts the number of punctuation characters in the sms message \n",
    "data['Punctuations']=data['Text'].apply(lambda x:len(re.findall(r'[^\\w+&&\\s]',x)))\n",
    "\n",
    "# Creating a new feature called Phonenumbers. \n",
    "# This feature indicates if the sms text contains a phonenumber or not\n",
    "data['PhoneNumbers']=data['Text'].apply(lambda x:re.findall(r'[\\d]{10}',x))\n",
    "\n",
    "# Creating a new feature called Links.\n",
    "# This feature indicates if the sms text contains a URL or not \n",
    "\n",
    "is_link= lambda x: 1 if re.search(r'https?://([-\\w.]|(?:%[\\da-fA-F]{2}))+',x)!=0 else 0\n",
    "data['Links']=data['Text'].apply(is_link)\n",
    "\n",
    "\n",
    "# Creating a new feature called Uppercase.\n",
    "# This feature indicates how many words in the the sms text are in upper case\n",
    "\n",
    "count_upper=lambda x: list(map(str.isupper,x.split())).count(True)\n",
    "\n",
    "data['Uppercase']=data['Text'].apply(count_upper)\n",
    "\n",
    "\n",
    "def find_unusual_words(text):\n",
    "    text_vocab_set=set(w.lower() for w in text if w.isalpha())\n",
    "    english_vocab_set=set(w.lower() for w in nltk.corpus.words.words())\n",
    "    \n",
    "    unusual_set=text_vocab_set-english_vocab_set\n",
    "    return len(unusual_set)\n",
    "data['unusualwords']=data['Text'].apply(lambda x:find_unusual_words(word_tokenize(x)))\n",
    "    \n",
    "    "
   ]
  },
  {
   "cell_type": "code",
   "execution_count": null,
   "metadata": {},
   "outputs": [],
   "source": [
    "from sklearn.feature_extraction.text import TfidfVectorizer\n",
    "tf_idf=TfidfVectorizer(stop_words='english',strip_accents='ascii',max_features=500)\n",
    "\n",
    "tf_idf_matrix=tf_idf.fit_transform(data['Text'])\n",
    "\n",
    "data_extra_features=pd.concat([data,pd.DataFrame(tf_idf_matrix.toarray(),columns=tf_idf_matrix.get_feature_names))],axis=1)\n"
   ]
  },
  {
   "cell_type": "markdown",
   "metadata": {},
   "source": [
    "## machine Learning"
   ]
  },
  {
   "cell_type": "code",
   "execution_count": null,
   "metadata": {},
   "outputs": [],
   "source": [
    "from sklearn.model_selection import train_test_split\n",
    "X=data_extra_features\n",
    "features=X.columns.drop[\"Value\",\"Text\",\"Value_num\"]\n",
    "target=['Value']\n",
    "X_train,X_test,y_train,y_test=train_test_split(X[features],X[target])\n",
    "\n",
    "#Decision Tree\n",
    "from sklearn.tree import DecisionTreeClassifer\n",
    "from sklearn.metrics import accuracy_score\n",
    "\n",
    "\n",
    "def model_accuray(model,X_train,X_test,y_train,y_test):\n",
    "    \n",
    "    model.fit(X_train,y_train)\n",
    "    pred=dt.predict(X_test)\n",
    "    print('Traning accurarcy',accuracy_score(y_train,dt.preditct(X_train)))\n",
    "    print('Testing accurarcy',accuracy_score(y_test,pred))\n",
    "\n",
    "from sklearn.navie_bayes import MultinomialNB\n",
    "from sklearn.linear_model import LogisticRegression\n",
    "#NavieBayes model\n",
    "\n",
    "mb=MultinomialNB()\n",
    "lr=LogisticRegression()\n",
    "dt=DecisionTreeClassifier(min_samples_split=40)\n",
    "\n",
    "model_accuray(mb,X_train,X_test,y_train,y_test)\n",
    "model_accuray(lr,X_train,X_test,y_train,y_test)\n",
    "model_accuray(dt,X_train,X_test,y_train,y_test)\n"
   ]
  }
 ],
 "metadata": {
  "kernelspec": {
   "display_name": "Python 3",
   "language": "python",
   "name": "python3"
  },
  "language_info": {
   "codemirror_mode": {
    "name": "ipython",
    "version": 3
   },
   "file_extension": ".py",
   "mimetype": "text/x-python",
   "name": "python",
   "nbconvert_exporter": "python",
   "pygments_lexer": "ipython3",
   "version": "3.7.3"
  }
 },
 "nbformat": 4,
 "nbformat_minor": 2
}

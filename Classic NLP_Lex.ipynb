{
 "cells": [
  {
   "cell_type": "code",
   "execution_count": 1,
   "metadata": {},
   "outputs": [],
   "source": [
    "import nltk"
   ]
  },
  {
   "cell_type": "code",
   "execution_count": 2,
   "metadata": {},
   "outputs": [],
   "source": [
    "sentence='The Cuban green woodpecker (Xiphidiopicus percussus) is a species of bird in the family Picidae. It is the only species within the genus Xiphidiopicus and is endemic to Cuba. A distinctive, relatively small woodpecker of the general size and shape of a sapsucker, the Cuban green woodpecker occasionally appears crested, with bright olive-green overparts and yellow underparts. The nape and upper breast are bright red, with some black bases to feathers usually visible, with a black chin and throat; the crown is red in males and black with white stripes in females. Females are significantly smaller than the male and generally shorter-billed. Juveniles are generally duller in plumage, showing more barring and streaking below. It typically measures 21 to 25 cm (8.3 to 9.8 in) in length and weighs 48 to 97 g (1.7 to 3.4 oz). This picture shows a female X. p. percussus individual.'"
   ]
  },
  {
   "cell_type": "code",
   "execution_count": 29,
   "metadata": {},
   "outputs": [
    {
     "name": "stdout",
     "output_type": "stream",
     "text": [
      "total words length 167\n",
      "total words length 167\n"
     ]
    }
   ],
   "source": [
    "vocab=nltk.word_tokenize(sentence.lower())\n",
    "vocab_lower=[]\n",
    "for i in vocab:\n",
    "    vocab_lower.append(i.lower())\n",
    "#nltk.sent_tokenize(sentence)\n",
    "print('total words length',len(vocab))\n",
    "print('total words length',len(vocab_lower))\n"
   ]
  },
  {
   "cell_type": "code",
   "execution_count": 21,
   "metadata": {},
   "outputs": [
    {
     "name": "stdout",
     "output_type": "stream",
     "text": [
      "['the', 'cuban', 'green', 'woodpecker', 'xiphidiopicus', 'percussus', 'is', 'a', 'species', 'of', 'bird', 'in', 'the', 'family', 'picidae', 'it', 'is', 'the', 'only', 'species', 'within', 'the', 'genus', 'xiphidiopicus', 'and', 'is', 'endemic', 'to', 'cuba', 'a', 'distinctive', 'relatively', 'small', 'woodpecker', 'of', 'the', 'general', 'size', 'and', 'shape', 'of', 'a', 'sapsucker', 'the', 'cuban', 'green', 'woodpecker', 'occasionally', 'appears', 'crested', 'with', 'bright', 'olive-green', 'overparts', 'and', 'yellow', 'underparts', 'the', 'nape', 'and', 'upper', 'breast', 'are', 'bright', 'red', 'with', 'some', 'black', 'bases', 'to', 'feathers', 'usually', 'visible', 'with', 'a', 'black', 'chin', 'and', 'throat', 'the', 'crown', 'is', 'red', 'in', 'males', 'and', 'black', 'with', 'white', 'stripes', 'in', 'females', 'females', 'are', 'significantly', 'smaller', 'than', 'the', 'male', 'and', 'generally', 'shorter-billed', 'juveniles', 'are', 'generally', 'duller', 'in', 'plumage', 'showing', 'more', 'barring', 'and', 'streaking', 'below', 'it', 'typically', 'measures', '21', 'to', '25', 'cm', '8.3', 'to', '9.8', 'in', 'in', 'length', 'and', 'weighs', '48', 'to', '97', 'g', '1.7', 'to', '3.4', 'oz', 'this', 'picture', 'shows', 'a', 'female', 'x.', 'p.', 'percussus', 'individual']\n"
     ]
    }
   ],
   "source": [
    "from string import punctuation\n",
    "vocab_wo_punct=[]\n",
    "\n",
    "for i in vocab:\n",
    "    if i not in punctuation:\n",
    "        vocab_wo_punct.append(i)\n",
    "print(vocab_wo_punct)\n"
   ]
  },
  {
   "cell_type": "code",
   "execution_count": 8,
   "metadata": {},
   "outputs": [
    {
     "name": "stdout",
     "output_type": "stream",
     "text": [
      "[('The', 'DT'), ('Cuban', 'NNP'), ('green', 'JJ'), ('woodpecker', 'NN'), ('Xiphidiopicus', 'NNP'), ('percussus', 'NN'), ('is', 'VBZ'), ('a', 'DT'), ('species', 'NNS'), ('of', 'IN'), ('bird', 'NN'), ('in', 'IN'), ('the', 'DT'), ('family', 'NN'), ('Picidae', 'NNP'), ('It', 'PRP'), ('is', 'VBZ'), ('the', 'DT'), ('only', 'JJ'), ('species', 'NNS'), ('within', 'IN'), ('the', 'DT'), ('genus', 'NN'), ('Xiphidiopicus', 'NNP'), ('and', 'CC'), ('is', 'VBZ'), ('endemic', 'JJ'), ('to', 'TO'), ('Cuba', 'VB'), ('A', 'NNP'), ('distinctive', 'JJ'), ('relatively', 'RB'), ('small', 'JJ'), ('woodpecker', 'NN'), ('of', 'IN'), ('the', 'DT'), ('general', 'JJ'), ('size', 'NN'), ('and', 'CC'), ('shape', 'NN'), ('of', 'IN'), ('a', 'DT'), ('sapsucker', 'NN'), ('the', 'DT'), ('Cuban', 'NNP'), ('green', 'JJ'), ('woodpecker', 'NN'), ('occasionally', 'RB'), ('appears', 'VBZ'), ('crested', 'VBN'), ('with', 'IN'), ('bright', 'JJ'), ('olive-green', 'JJ'), ('overparts', 'NNS'), ('and', 'CC'), ('yellow', 'JJ'), ('underparts', 'NNS'), ('The', 'DT'), ('nape', 'NN'), ('and', 'CC'), ('upper', 'JJ'), ('breast', 'NN'), ('are', 'VBP'), ('bright', 'VBN'), ('red', 'JJ'), ('with', 'IN'), ('some', 'DT'), ('black', 'JJ'), ('bases', 'NNS'), ('to', 'TO'), ('feathers', 'NNS'), ('usually', 'RB'), ('visible', 'JJ'), ('with', 'IN'), ('a', 'DT'), ('black', 'JJ'), ('chin', 'NN'), ('and', 'CC'), ('throat', 'VB'), ('the', 'DT'), ('crown', 'NN'), ('is', 'VBZ'), ('red', 'VBN'), ('in', 'IN'), ('males', 'NNS'), ('and', 'CC'), ('black', 'JJ'), ('with', 'IN'), ('white', 'JJ'), ('stripes', 'NNS'), ('in', 'IN'), ('females', 'NNS'), ('Females', 'NNS'), ('are', 'VBP'), ('significantly', 'RB'), ('smaller', 'JJR'), ('than', 'IN'), ('the', 'DT'), ('male', 'NN'), ('and', 'CC'), ('generally', 'RB'), ('shorter-billed', 'JJ'), ('Juveniles', 'NNS'), ('are', 'VBP'), ('generally', 'RB'), ('duller', 'VBN'), ('in', 'IN'), ('plumage', 'NN'), ('showing', 'VBG'), ('more', 'JJR'), ('barring', 'NN'), ('and', 'CC'), ('streaking', 'VBG'), ('below', 'IN'), ('It', 'PRP'), ('typically', 'RB'), ('measures', 'VBZ'), ('21', 'CD'), ('to', 'TO'), ('25', 'CD'), ('cm', 'NNS'), ('8.3', 'CD'), ('to', 'TO'), ('9.8', 'CD'), ('in', 'IN'), ('in', 'IN'), ('length', 'NN'), ('and', 'CC'), ('weighs', 'VBZ'), ('48', 'CD'), ('to', 'TO'), ('97', 'CD'), ('g', 'NNS'), ('1.7', 'CD'), ('to', 'TO'), ('3.4', 'CD'), ('oz', 'NN'), ('This', 'DT'), ('picture', 'NN'), ('shows', 'VBZ'), ('a', 'DT'), ('female', 'JJ'), ('X.', 'NNP'), ('p.', 'NN'), ('percussus', 'NN'), ('individual', 'NN')]\n"
     ]
    }
   ],
   "source": [
    "from nltk import pos_tag\n",
    "\n",
    "pos_list=pos_tag(vocab_wo_punct)\n",
    "print(pos_list)"
   ]
  },
  {
   "cell_type": "code",
   "execution_count": 22,
   "metadata": {},
   "outputs": [
    {
     "name": "stdout",
     "output_type": "stream",
     "text": [
      "['cuban', 'green', 'woodpecker', 'xiphidiopicus', 'percussus', 'species', 'bird', 'family', 'picidae', 'species', 'within', 'genus', 'xiphidiopicus', 'endemic', 'cuba', 'distinctive', 'relatively', 'small', 'woodpecker', 'general', 'size', 'shape', 'sapsucker', 'cuban', 'green', 'woodpecker', 'occasionally', 'appears', 'crested', 'bright', 'olive-green', 'overparts', 'yellow', 'underparts', 'nape', 'upper', 'breast', 'bright', 'red', 'black', 'bases', 'feathers', 'usually', 'visible', 'black', 'chin', 'throat', 'crown', 'red', 'males', 'black', 'white', 'stripes', 'females', 'females', 'significantly', 'smaller', 'male', 'generally', 'shorter-billed', 'juveniles', 'generally', 'duller', 'plumage', 'showing', 'barring', 'streaking', 'typically', 'measures', '21', '25', 'cm', '8.3', '9.8', 'length', 'weighs', '48', '97', 'g', '1.7', '3.4', 'oz', 'picture', 'shows', 'female', 'x.', 'p.', 'percussus', 'individual']\n"
     ]
    }
   ],
   "source": [
    "from nltk.corpus import stopwords\n",
    "wo_stop_words=[]\n",
    "stop_words_set=set(stopwords.words(\"english\"))\n",
    "#stop_words_set_tel=set(stopwords.words(\"telugu\"))\n",
    "\n",
    "for i in vocab_wo_punct:\n",
    "    if i not in stop_words_set:\n",
    "        wo_stop_words.append(i)\n",
    "print(wo_stop_words)\n"
   ]
  },
  {
   "cell_type": "code",
   "execution_count": 23,
   "metadata": {},
   "outputs": [
    {
     "name": "stdout",
     "output_type": "stream",
     "text": [
      "['cuban', 'green', 'woodpeck', 'xiphidiopicus', 'percussus', 'speci', 'bird', 'famili', 'picida', 'speci', 'within', 'genus', 'xiphidiopicus', 'endem', 'cuba', 'distinct', 'relat', 'small', 'woodpeck', 'general', 'size', 'shape', 'sapsuck', 'cuban', 'green', 'woodpeck', 'occasion', 'appear', 'crest', 'bright', 'olive-green', 'overpart', 'yellow', 'underpart', 'nape', 'upper', 'breast', 'bright', 'red', 'black', 'base', 'feather', 'usual', 'visibl', 'black', 'chin', 'throat', 'crown', 'red', 'male', 'black', 'white', 'stripe', 'femal', 'femal', 'signific', 'smaller', 'male', 'general', 'shorter-bil', 'juvenil', 'general', 'duller', 'plumag', 'show', 'bar', 'streak', 'typic', 'measur', '21', '25', 'cm', '8.3', '9.8', 'length', 'weigh', '48', '97', 'g', '1.7', '3.4', 'oz', 'pictur', 'show', 'femal', 'x.', 'p.', 'percussus', 'individu']\n"
     ]
    }
   ],
   "source": [
    "from nltk.stem.snowball import SnowballStemmer\n",
    "stemobj=SnowballStemmer('english')\n",
    "\n",
    "stemmed_vocab=[]\n",
    "for i in wo_stop_words:\n",
    "    stemmed_vocab.append(stemobj.stem(i))\n",
    "    \n",
    "print(stemmed_vocab)"
   ]
  },
  {
   "cell_type": "code",
   "execution_count": 24,
   "metadata": {},
   "outputs": [
    {
     "name": "stdout",
     "output_type": "stream",
     "text": [
      "['cuban', 'green', 'woodpecker', 'xiphidiopicus', 'percussus', 'specie', 'bird', 'family', 'picidae', 'specie', 'within', 'genus', 'xiphidiopicus', 'endemic', 'cuba', 'distinctive', 'relatively', 'small', 'woodpecker', 'general', 'size', 'shape', 'sapsucker', 'cuban', 'green', 'woodpecker', 'occasionally', 'appears', 'crested', 'bright', 'olive-green', 'overparts', 'yellow', 'underpart', 'nape', 'upper', 'breast', 'bright', 'red', 'black', 'base', 'feather', 'usually', 'visible', 'black', 'chin', 'throat', 'crown', 'red', 'male', 'black', 'white', 'stripe', 'female', 'female', 'significantly', 'smaller', 'male', 'generally', 'shorter-billed', 'juvenile', 'generally', 'duller', 'plumage', 'showing', 'barring', 'streaking', 'typically', 'measure', '21', '25', 'cm', '8.3', '9.8', 'length', 'weighs', '48', '97', 'g', '1.7', '3.4', 'oz', 'picture', 'show', 'female', 'x.', 'p.', 'percussus', 'individual']\n"
     ]
    }
   ],
   "source": [
    "from nltk.stem.wordnet import WordNetLemmatizer\n",
    "lemmobj=WordNetLemmatizer()\n",
    "\n",
    "lemmed_vocab=[]\n",
    "for i in wo_stop_words:\n",
    "    lemmed_vocab.append(lemmobj.lemmatize(i))\n",
    "print(lemmed_vocab)"
   ]
  },
  {
   "cell_type": "code",
   "execution_count": 25,
   "metadata": {},
   "outputs": [
    {
     "name": "stdout",
     "output_type": "stream",
     "text": [
      "total words 167\n",
      "total words after puncations removed 146\n",
      "total words after stop words removed 89\n",
      "{'having', 'by', 'those', 'we', 'here', 'under', 'there', 'i', \"doesn't\", 'can', 'him', 'myself', \"you're\", 'm', 'yourselves', 'an', 'doesn', \"needn't\", 'this', 'over', \"hasn't\", 'have', \"didn't\", 'hasn', 'were', 'yours', \"you'll\", 'don', 'ma', 'whom', 'above', \"mustn't\", 'my', 'to', 'who', \"it's\", 'been', 'each', 'just', 'me', 'wouldn', 'theirs', 'how', 'but', 'o', 'ours', \"mightn't\", 'into', 'these', 'during', 'haven', \"shouldn't\", 'now', 'below', 'what', \"wouldn't\", 'do', 'has', 'off', 'because', 's', 'your', 'it', 'or', 'won', 'on', 'was', 'at', 'some', 'should', 'being', 'nor', 'needn', 'mustn', 'ourselves', 'up', \"aren't\", 'isn', 'if', 'and', 'ain', 'both', 'against', 'any', 'herself', 'their', 'himself', 'a', 'had', 't', 'she', 'down', 'does', 'no', \"won't\", 'too', 'am', 'as', 'with', 'out', 'while', 're', 'own', \"wasn't\", 'you', 'itself', 'd', 'of', 'is', 'than', 'through', 'he', 'll', 'our', 'couldn', 'about', 'mightn', 'her', 'the', \"you've\", 'so', 'doing', 'between', \"you'd\", 'few', 'where', 'hadn', \"that'll\", 'not', 'such', 'only', 'did', 've', 'yourself', 'y', 'shouldn', 'its', 'are', 'from', \"she's\", 'they', 'further', 'very', 'be', 'all', 'themselves', \"should've\", 'weren', 'hers', \"shan't\", 'shan', 'aren', \"haven't\", \"hadn't\", 'didn', 'until', 'once', 'other', 'same', \"couldn't\", 'which', 'them', \"don't\", 'when', 'that', 'in', 'again', 'will', 'his', 'then', 'after', 'for', \"isn't\", 'before', 'more', 'why', 'wasn', 'most', \"weren't\"}\n"
     ]
    }
   ],
   "source": [
    "print('total words',len(vocab))\n",
    "print('total words after puncations removed',len(vocab_wo_punct))\n",
    "print('total words after stop words removed',len(wo_stop_words))\n",
    "\n",
    "#pint(stop_words_set)"
   ]
  },
  {
   "cell_type": "markdown",
   "metadata": {},
   "source": [
    "Question 1: Copy the data provided in the sample1.txt into your Python environment, and perform the following operations\n",
    "\n",
    "1.Count the number of unique tokens in the text\n",
    "\n",
    "2.Count the number of punctuation characters\n",
    "\n",
    "3.Plot the distribution of each POS Tag using a barplot\n",
    "\n",
    "4.Determine the number of unique lemma available in the text\n",
    "\n",
    "5.Plot the distribution of stopwords used in the text using barplot"
   ]
  },
  {
   "cell_type": "code",
   "execution_count": 30,
   "metadata": {},
   "outputs": [],
   "source": [
    "import pandas as pd\n",
    "import matplotlib as plt\n",
    "import seaborn as sns\n",
    "import numpy as np"
   ]
  },
  {
   "cell_type": "code",
   "execution_count": 53,
   "metadata": {},
   "outputs": [
    {
     "data": {
      "text/plain": [
       "'Wikipedia is a multilingual, web-based, free encyclopedia based on a model of openly editable content. It is the largest and most popular general reference work on the Internet, and is one of the most popular websites by Alexa rank. It is owned and supported by the Wikimedia Foundation, a non-profit organization which operates on money it receives from donors.\\nWikipedia was launched on January 15, 2001, by Jimmy Wales and Larry Sanger. Sanger coined its name, as a portmanteau of wiki and \"encyclopedia\". Initially an English-language encyclopedia, versions in other languages were quickly developed. With 5,721,582 articles, the English Wikipedia is the largest of the more than 290 Wikipedia encyclopedias. Overall, Wikipedia comprises more than 40 million articles in 301 different languages and had 18 billion page views and nearly 500 million unique visitors each month as of February 2014.\\nIn 2005, Nature published a peer review comparing 42 science articles from Encyclopædia Britannica and Wikipedia and found that Wikipedia\\'s level of accuracy approached that of Encyclopædia Britannica. Time magazine stated that the open-door policy of allowing anyone to edit had made Wikipedia the biggest and possibly the best encyclopedia in the world and it was testament to the vision of Jimmy Wales.\\nWikipedia has been criticized for exhibiting systemic bias, for presenting a mixture of \"truths, half truths, and some falsehoods\", and for being subject to manipulation and spin in controversial topics. In 2017, Facebook announced that it would help readers detect fake news by suitable links to Wikipedia articles. YouTube announced a similar plan in 2018. In response, The Washington Post headlined, \"Wikipedia, the ‘good cop’ of the Internet\".'"
      ]
     },
     "execution_count": 53,
     "metadata": {},
     "output_type": "execute_result"
    }
   ],
   "source": [
    "txtFile=open('C:\\\\Data\\\\NLP\\\\NLP_sample1.txt','r')\n",
    "txt=\"\"\n",
    "for line in txtFile:\n",
    "    txt=txt+line\n",
    "txt"
   ]
  },
  {
   "cell_type": "code",
   "execution_count": 59,
   "metadata": {},
   "outputs": [
    {
     "name": "stdout",
     "output_type": "stream",
     "text": [
      "unique tokens in text 174\n"
     ]
    }
   ],
   "source": [
    "vocab=nltk.word_tokenize(txt)\n",
    "vocab_arr=np.array(vocab)\n",
    "print('unique tokens in text',len(np.unique(vocab_arr)))"
   ]
  },
  {
   "cell_type": "code",
   "execution_count": 62,
   "metadata": {},
   "outputs": [
    {
     "name": "stdout",
     "output_type": "stream",
     "text": [
      "number of punctuation characters 33\n"
     ]
    }
   ],
   "source": [
    "puncation_count=0\n",
    "vocab_wo_punct=vocab.copy()\n",
    "for word in vocab:\n",
    "    if word in punctuation:\n",
    "        puncation_count=puncation_count+1\n",
    "        vocab_wo_punct.remove(word)\n",
    "print('number of punctuation characters',puncation_count)"
   ]
  },
  {
   "cell_type": "code",
   "execution_count": 81,
   "metadata": {},
   "outputs": [
    {
     "data": {
      "text/plain": [
       "<matplotlib.axes._subplots.AxesSubplot at 0xa6bd6a0>"
      ]
     },
     "execution_count": 81,
     "metadata": {},
     "output_type": "execute_result"
    },
    {
     "data": {
      "image/png": "[encoded data removed]",
      "text/plain": [
       "<Figure size 842.4x595.44 with 1 Axes>"
      ]
     },
     "metadata": {},
     "output_type": "display_data"
    }
   ],
   "source": [
    "%matplotlib inline\n",
    "pos_list=pos_tag(vocab_wo_punct)\n",
    "pos_df=pd.DataFrame(pos_list)\n",
    "pos_df.columns=['Text','Tag']\n",
    "#pos_df['Tag']\n",
    "sns.set(rc={'figure.figsize':(11.7,8.27)})\n",
    "\n",
    "sns.countplot(pos_df['Tag'])\n",
    "#sns.barplot(x='Text',y='Tag',data=pos_df)"
   ]
  },
  {
   "cell_type": "code",
   "execution_count": null,
   "metadata": {},
   "outputs": [],
   "source": [
    "lemmatize_vocab=[]\n",
    "\n",
    "for word in vocab:\n",
    "    lemmatize_vocab.append(lemmobj.lemmatize(word))\n",
    "lemmatize_vocab_arry=np.array(lemmatize_vocab)\n",
    "print('count of lemmatized words',len(lemmatize_vocab))\n",
    "print('count of lemmatized words',len(np.unique(lemmatize_vocab_arry)))\n"
   ]
  },
  {
   "cell_type": "code",
   "execution_count": 88,
   "metadata": {},
   "outputs": [
    {
     "data": {
      "text/plain": [
       "<matplotlib.axes._subplots.AxesSubplot at 0x13dbc390>"
      ]
     },
     "execution_count": 88,
     "metadata": {},
     "output_type": "execute_result"
    },
    {
     "data": {
      "image/png": "[encoded data removed]",
      "text/plain": [
       "<Figure size 842.4x595.44 with 1 Axes>"
      ]
     },
     "metadata": {},
     "output_type": "display_data"
    }
   ],
   "source": [
    "stop_words=[]\n",
    "\n",
    "for word in vocab:\n",
    "    if word in stop_words_set:\n",
    "        stop_words.append(word)\n",
    "sns.countplot(stop_words)"
   ]
  },
  {
   "cell_type": "markdown",
   "metadata": {},
   "source": [
    "# Question 2: Copy the data provided in the sample1.txt file, and perform the following operations: \n",
    "\n",
    "1.Plot the frequency distribution of words in the text. Display only the top 10 (most occurring) tokens in the chart \n",
    "\n",
    "2. Determine the number of unique bigrams, trigrams and quadgrams (n=4) in the text"
   ]
  },
  {
   "cell_type": "code",
   "execution_count": 103,
   "metadata": {},
   "outputs": [
    {
     "data": {
      "text/plain": [
       "<matplotlib.axes._subplots.AxesSubplot at 0x15515208>"
      ]
     },
     "execution_count": 103,
     "metadata": {},
     "output_type": "execute_result"
    },
    {
     "data": {
      "image/png": "[encoded data removed]",
      "text/plain": [
       "<Figure size 842.4x595.44 with 1 Axes>"
      ]
     },
     "metadata": {},
     "output_type": "display_data"
    }
   ],
   "source": [
    "from nltk.probability import FreqDist\n",
    "\n",
    "frq_words=FreqDist(vocab)\n",
    "\n",
    "df_top_words=pd.DataFrame(frq_words.most_common(10),columns=['word','count'])\n",
    "df_top_words\n",
    "sns.barplot(data=df_top_words,x='word',y='count')"
   ]
  },
  {
   "cell_type": "code",
   "execution_count": 119,
   "metadata": {},
   "outputs": [
    {
     "name": "stdout",
     "output_type": "stream",
     "text": [
      "count of unique bigrams 178\n",
      "count of trigrams 178\n",
      "count of quadgrams 178\n"
     ]
    }
   ],
   "source": [
    "bigrams=nltk.ngrams(txt.split(),2)\n",
    "trigrams=nltk.ngrams(txt.split(),3)\n",
    "quadgrams=nltk.ngrams(txt.split(),4)\n",
    "\n",
    "bigramarray=np.array(list(bigrams))\n",
    "\n",
    "print('count of unique bigrams',len(np.unique(bigramarray)))\n",
    "print('count of trigrams',len(np.unique(np.array(list(trigrams)))))\n",
    "print('count of quadgrams',len(np.unique(np.array(list(quadgrams)))))\n",
    "#print('no of bigrams',len(np.array(bigrams)))\n",
    "\n"
   ]
  },
  {
   "cell_type": "markdown",
   "metadata": {},
   "source": [
    "# Question 3: Copy the data provided in the sample2.txt file into your Python environment and perform the following operations\n",
    "\n",
    "Find all dates and convert them to the DD-MM-YYYY format. \n",
    "\n",
    "Plot a distribution of the different values of year occurring in the text\n",
    "\n",
    "Determine whether the text contains any phone numbers in it. Ensure the phone numbers are valid if any. A valid phonenumber doesn't have all digits same. If an invalid phone number is found, remove it from the text."
   ]
  },
  {
   "cell_type": "code",
   "execution_count": 123,
   "metadata": {},
   "outputs": [
    {
     "data": {
      "text/plain": [
       "\"The Sansad Bhavan (Parliament House) is located in New Delhi. It was designed by Edwin Lutyens and Herbert Baker, who were responsible for planning and construction of New Delhi by British government. The construction of buildings took six years and the opening ceremony was performed on 18 January 1927 by the then Viceroy and Governor-General of India, Irwin. \\nIn November 2014, Zomato completed another round of funding of US$60 million at a post-money valuation of ~US$660 million. This round of funding was being led jointly by Info Edge India and Vy Capital, with participation from Sequoia Capital. To contact reach us at +61 450 266 295.\\nUber Technologies Inc. (doing business as Uber) is a peer-to-peer ridesharing, taxi cab, food delivery, bicycle-sharing, and transportation network company (TNC) headquartered in San Francisco, California, with operations in 785 metropolitan areas worldwide. Its platforms can be accessed via its websites and mobile apps. Uber has been prominent in the sharing economy, so much so that the changes in industries as a result of it have been referred to as Uberisation. \\nJustdial is an Indian-based search services company founded by Venkatachalam Sthanu Subramani Mani. The company's headquarters is in Mumbai, Maharashtra, India. It has offices in Ahmedabad, Bangalore, Chandigarh, Chennai, Coimbatore, Delhi, Hyderabad, Jaipur, Kolkata and Pune.[8] Just Dial was in news on November 10, 2017 for expected acquisition by Google and based on this news the share prices at NSE rose about 20%. Customerservice number 88888 88888.\\nAn earthquake (also known as a quake, tremor or temblor) is the shaking of the surface of the Earth, resulting from the sudden release of energy in the Earth's lithosphere that creates seismic waves. Earthquakes can range in size from those that are so weak that they cannot be felt to those violent enough to toss people around and destroy whole cities. The seismicity, or seismic activity, of an area is the frequency, type and size of earthquakes experienced over a period of time. The word tremor is also used for non-earthquake seismic rumbling. Dates of the recent earthquakes that occured this year 7-Sep-18, 6-September-18, September 05,2018, 29-08-18, 25/Aug/18 and many more.\""
      ]
     },
     "execution_count": 123,
     "metadata": {},
     "output_type": "execute_result"
    }
   ],
   "source": [
    "txtFile2=open('C:\\\\Data\\\\NLP\\\\sample2.txt','r')\n",
    "txt2=\"\"\n",
    "for line in txtFile2:\n",
    "    txt2=txt2+line\n",
    "txt2"
   ]
  },
  {
   "cell_type": "code",
   "execution_count": 256,
   "metadata": {},
   "outputs": [
    {
     "name": "stdout",
     "output_type": "stream",
     "text": [
      "['November 10, 2017', 'September 05,2018', '29-08-18', '7-Sep-18', '6-September-18', '25/Aug/18']\n"
     ]
    }
   ],
   "source": [
    "import re\n",
    "from datetime import *\n",
    "import calendar\n",
    "monthsShort=\"(Jan|Feb|Mar|Apr|May|Jun|Jul|Aug|Sep|Oct|Nov|Dec)\"\n",
    "monthsLong=\"(January|February|March|April|May|June|July|August|September|October|November|December)\"\n",
    "months=\"(\" + monthsShort + \"|\" + monthsLong + \")\"\n",
    "separators = \"[/]\"\n",
    "months='[\\w]*'\n",
    "days = \"\\d{2}\"\n",
    "years = \"\\d{4}\"\n",
    "\n",
    "regex1 =re.compile(months + separators + days)\n",
    "regex2 = re.compile(days + separators + months+separators+years)\n",
    "lstDates=[]\n",
    "lstDates=re.findall(r'[\\d]{1,2}-[\\d]{1,2}-[\\d]{2,4}',txt2)\n",
    "lstDates2=re.findall(r'([\\d]{2}/(Jan|Feb|Mar|Apr|May|Jun|Jul|Aug|Sep|Oct|Nov|Dec)/[\\d]{2})',txt2)\n",
    "lstDates3=re.findall(r'[\\d]{1,2}-[\\w]{3,9}-[\\d]{2}',txt2)\n",
    "lstDates4=re.findall(r'([\\d]{1,2}[-](JAN|NOV|OCT|DEC|Sep)[-][\\d]{2,4})',txt2)\n",
    "lstDates5=re.findall(r\"[\\d]{1,2}[-|/|-][ADFJMNOS|adfjmnos]\\w*[-|/|-][\\d]{2,4}\",txt2)\n",
    "lstDates6=re.findall(r\"[ADFJMNOS|adfjmnos]\\w*[-|/|-|\\s][\\d]{1,2}[-|/|-|\\s|,]+[\\d]{2,4}\",txt2)\n",
    "\n",
    "\n",
    "lstDates6.extend(lstDates)\n",
    "lstDates6.extend(lstDates5)\n",
    "\n",
    "print(lstDates6)"
   ]
  }
 ],
 "metadata": {
  "kernelspec": {
   "display_name": "Python 3",
   "language": "python",
   "name": "python3"
  },
  "language_info": {
   "codemirror_mode": {
    "name": "ipython",
    "version": 3
   },
   "file_extension": ".py",
   "mimetype": "text/x-python",
   "name": "python",
   "nbconvert_exporter": "python",
   "pygments_lexer": "ipython3",
   "version": "3.7.3"
  }
 },
 "nbformat": 4,
 "nbformat_minor": 2
}

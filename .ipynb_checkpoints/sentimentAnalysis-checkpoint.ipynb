{
 "cells": [
  {
   "cell_type": "code",
   "execution_count": null,
   "metadata": {},
   "outputs": [],
   "source": [
    "from nltk.sentiment.vader import SentimentIntensityAnalyzer\n",
    "import pandas as pd\n",
    "import numpy as np\n",
    "\n",
    "filename='esteebrandsdata.csv'\n",
    "column='TextReview'\n",
    "Data=pd.read_csv(filename,encoding='Latin-1')\n",
    "Data=Data.replace(np.nan,'',regex=True)\n",
    "sentences=list(Data[column])\n",
    "\n",
    "sid=SentimentIntensityAnalyzer()\n",
    "sentiments=[]\n",
    "\n",
    "for sentence in sentences:\n",
    "    ss=sid.polarity_scores(sentence)\n",
    "    sentiments.append(ss)\n"
   ]
  }
 ],
 "metadata": {
  "kernelspec": {
   "display_name": "Python 3",
   "language": "python",
   "name": "python3"
  },
  "language_info": {
   "codemirror_mode": {
    "name": "ipython",
    "version": 3
   },
   "file_extension": ".py",
   "mimetype": "text/x-python",
   "name": "python",
   "nbconvert_exporter": "python",
   "pygments_lexer": "ipython3",
   "version": "3.7.3"
  }
 },
 "nbformat": 4,
 "nbformat_minor": 2
}

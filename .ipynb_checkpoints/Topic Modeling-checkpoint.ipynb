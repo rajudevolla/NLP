{
 "cells": [
  {
   "cell_type": "markdown",
   "metadata": {},
   "source": [
    "## load neccassary modules"
   ]
  },
  {
   "cell_type": "code",
   "execution_count": 6,
   "metadata": {},
   "outputs": [
    {
     "name": "stderr",
     "output_type": "stream",
     "text": [
      "C:\\ProgramData\\Anaconda3\\lib\\site-packages\\gensim\\utils.py:1197: UserWarning: detected Windows; aliasing chunkize to chunkize_serial\n",
      "  warnings.warn(\"detected Windows; aliasing chunkize to chunkize_serial\")\n"
     ]
    }
   ],
   "source": [
    "from nltk.corpus import stopwords\n",
    "from nltk.stem.wordnet import WordNetLemmatizer\n",
    "import string\n",
    "import gensim\n",
    "from gensim import corpora"
   ]
  },
  {
   "cell_type": "markdown",
   "metadata": {},
   "source": [
    "## Getting Data"
   ]
  },
  {
   "cell_type": "code",
   "execution_count": 8,
   "metadata": {},
   "outputs": [],
   "source": [
    "docs1=\"Sugar causes blood glucose to spike and plummet. Unstable blood sugar often leads to mood swings, fatigue, headaches and cravings for more sugar. Cravings set the stage for a cycle of addiction in which every new hit of sugar makes you feel better temporarily but, a few hours later, results in more cravings and hunger. On the flip side, those who avoid sugar often report having little or no cravings for sugary things and feeling emotionally balanced and energized.\"\n",
    "docs2=\"Sugar increases the risk of obesity, diabetes and heart disease. Large-scale studies have shown that the more high-glycemic foods (those that quickly affect blood sugar), including foods containing sugar, a person consumes, the higher his risk for becoming obese and for developing diabetes and heart disease1. Emerging research is also suggesting connections between high-glycemic diets and many different forms of cancer.\"\n",
    "docs3=\"Sugar interferes with immune function. Research on human subjects is scant, but animal studies have shown that sugar suppresses immune response5. More research is needed to understand the exact mechanisms; however, we do know that bacteria and yeast feed on sugar and that, when these organisms get out of balance in the body, infections and illness are more likely.\"\n",
    "docs4=\"A high-sugar diet often results in chromium deficiency. Its sort of a catch-22. If you consume a lot of sugar and other refined carbohydrates, you probably dont get enough of the trace mineral chromium, and one of chromiums main functions is to help regulate blood sugar. Scientists estimate that 90 percent of Americans dont get enough chromium. Chromium is found in a variety of animal foods, seafood and plant foods. Refining starches and other carbohydrates rob these foods of their chromium supplies.\"\n",
    "docs5=\"Sugar accelerates aging. It even contributes to that telltale sign of aging: sagging skin. Some of the sugar you consume, after hitting your bloodstream, ends up attaching itself to proteins, in a process called glycation. These new molecular structures contribute to the loss of elasticity found in aging body tissues, from your skin to your organs and arteries7. The more sugar circulating in your blood, the faster this damage takes hold.\"\n",
    "docs6=\"Sugar causes tooth decay. With all the other life-threatening effects of sugar, we sometimes forget the most basic damage it does. When it sits on your teeth, it creates decay more efficiently than any other food substance8. For a strong visual reminder, next time the Tooth Fairy visits, try the old tooth-in-a-glass-of-Coke experiment—the results will surely convince you that sugar isnt good for your pearly whites.\"\n",
    "docs7=\"Sugar can cause gum disease, which can lead to heart disease. Increasing evidence shows that chronic infections, such as those that result from periodontal problems, play a role in the development of coronary artery disease9. The most popular theory is that the connection is related to widespread effects from the bodys inflammatory response to infection.\"\n",
    "docs7=\"Sugar affects behavior and cognition in children. Though it has been confirmed by millions of parents, most researchers have not been able to show the effect of sugar on childrens behavior. A possible problem with the research is that most of it compared the effects of a sugar-sweetened drink to one containing an artificial sweetener10. It may be that kids react to both real sugar and sugar substitutes, therefore showing no differences in behavior. What about kids ability to learn? Between 1979 and 1983, 803 New York City public schools reduced the amount of sucrose (table sugar) and eliminated artificial colors, flavors and two preservatives from school lunches and breakfasts. The diet policy changes were followed by a 15.7 percent increase in a national academic ranking (previously, the greatest improvement ever seen had been 1.7 percent).\"\n",
    "docs8=\"Sugar increases stress. When were under stress, our stress hormone levels rise; these chemicals are the bodys fight-or-flight emergency crew, sent out to prepare the body for an attack or an escape. These chemicals are also called into action when blood sugar is low. For example, after a blood-sugar spike (say, from eating a piece of birthday cake), theres a compensatory dive, which causes the body to release stress hormones such as adrenaline, epinephrine and cortisol. One of the main things these hormones do is raise blood sugar, providing the body with a quick energy boost. The problem is, these helpful hormones can make us feel anxious, irritable and shaky.\"\n",
    "docs9=\"Sugar takes the place of important nutrients. According to USDA data, people who consume the most sugar have the lowest intakes of essential nutrients––especially vitamin A, vitamin C, folate, vitamin B-12, calcium, phosphorous, magnesium and iron. Ironically, those who consume the most sugar are children and teenagers, the individuals who need these nutrients most12.\"\n",
    "docs10=\"Slashing Sugar. Now that you know the negative impacts refined sugar can have on your body and mind, youll want to be more careful about the foods you choose. And the first step is getting educated about where sugar lurks—believe it or not, a food neednt even taste all that sweet for it to be loaded with sugar. When it comes to convenience and packaged foods, let the ingredients label be your guide, and be aware that just because something boasts that it is low in carbs or a diet food, doesnt mean its free of sugar. Atkins products never contain added sugar.\"\n",
    "# compile documents\n",
    "doc_complete=[docs1,docs2,docs3, docs4,docs5,docs6,docs7,docs8,docs9,docs10]\n"
   ]
  },
  {
   "cell_type": "markdown",
   "metadata": {},
   "source": [
    "### preprocessing "
   ]
  },
  {
   "cell_type": "code",
   "execution_count": 73,
   "metadata": {},
   "outputs": [],
   "source": [
    "stop_set=set(stopwords.words('english'))\n",
    "exclude_set=set(string.punctuation)\n",
    "lemmatize=WordNetLemmatizer()\n",
    "\n",
    "def clean_doc(doc):\n",
    "    stop_free=' '.join([i for i in doc.lower().split() if i not in stop_set])\n",
    "    punc_free=''.join([i for i in stop_free if i not in exclude_set])\n",
    "    normalized=\" \".join([lemmatize.lemmatize(i) for i in punc_free.split()])\n",
    "    return normalized\n",
    "cleaned = [clean_doc(doc).split() for doc in doc_complete]"
   ]
  },
  {
   "cell_type": "code",
   "execution_count": 75,
   "metadata": {},
   "outputs": [
    {
     "name": "stdout",
     "output_type": "stream",
     "text": [
      "(0, '0.060*\"sugar\" + 0.048*\"craving\" + 0.025*\"blood\" + 0.025*\"often\" + 0.013*\"feel\"')\n",
      "(1, '0.045*\"sugar\" + 0.030*\"research\" + 0.030*\"immune\" + 0.016*\"study\" + 0.016*\"shown\"')\n",
      "(2, '0.044*\"vitamin\" + 0.044*\"sugar\" + 0.030*\"consume\" + 0.030*\"nutrient\" + 0.016*\"child\"')\n",
      "(3, '0.041*\"aging\" + 0.041*\"sugar\" + 0.028*\"skin\" + 0.015*\"called\" + 0.015*\"new\"')\n",
      "(4, '0.070*\"chromium\" + 0.036*\"food\" + 0.024*\"get\" + 0.024*\"carbohydrate\" + 0.024*\"enough\"')\n",
      "(5, '0.042*\"sugar\" + 0.028*\"decay\" + 0.028*\"tooth\" + 0.015*\"cause\" + 0.015*\"result\"')\n",
      "(6, '0.070*\"sugar\" + 0.047*\"food\" + 0.024*\"diet\" + 0.012*\"low\" + 0.012*\"contain\"')\n",
      "(7, '0.039*\"sugar\" + 0.028*\"highglycemic\" + 0.028*\"diabetes\" + 0.028*\"heart\" + 0.028*\"risk\"')\n",
      "(8, '0.045*\"sugar\" + 0.023*\"body\" + 0.023*\"stress\" + 0.023*\"hormone\" + 0.017*\"behavior\"')\n",
      "(9, '0.003*\"researcher\" + 0.003*\"school\" + 0.003*\"real\" + 0.003*\"reduced\" + 0.003*\"ranking\"')\n"
     ]
    }
   ],
   "source": [
    "# Every unique term is assigned an index in our term document matrix. \n",
    "import numpy\n",
    "dictionary = corpora.Dictionary(cleaned)\n",
    "# Converting list of documents (corpus) into Document Term Matrix using dictionary prepared above.\n",
    "doc_term_matrix = [dictionary.doc2bow(doc) for doc in cleaned]\n",
    "# Creating an LDA object\n",
    "Lda = gensim.models.ldamodel.LdaModel\n",
    "# Running and Training LDA model on the document term matrix.\n",
    "ldamodel = Lda(doc_term_matrix, num_topics=10, id2word = dictionary, passes=300)\n",
    "#Result\n",
    "topics = ldamodel.print_topics(num_topics=10, num_words=5)\n",
    "for i in topics:\n",
    "    print (i)\n"
   ]
  }
 ],
 "metadata": {
  "kernelspec": {
   "display_name": "Python 3",
   "language": "python",
   "name": "python3"
  },
  "language_info": {
   "codemirror_mode": {
    "name": "ipython",
    "version": 3
   },
   "file_extension": ".py",
   "mimetype": "text/x-python",
   "name": "python",
   "nbconvert_exporter": "python",
   "pygments_lexer": "ipython3",
   "version": "3.7.3"
  }
 },
 "nbformat": 4,
 "nbformat_minor": 2
}

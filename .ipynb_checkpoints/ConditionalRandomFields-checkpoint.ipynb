{
 "cells": [
  {
   "cell_type": "markdown",
   "metadata": {},
   "source": [
    "# Conditional Random Fields"
   ]
  },
  {
   "cell_type": "code",
   "execution_count": 3,
   "metadata": {},
   "outputs": [
    {
     "data": {
      "text/plain": [
       "[['My', 'account', 'number', 'is', 'SB100-abc-200'],\n",
       " ['NAA', 'NAA', 'NAA', 'NAA', 'NAA'],\n",
       " ['Can', 'you', 'please', 'tell', 'the', 'balance', 'for', 'CA499-243-520'],\n",
       " ['NAA', 'NAA', 'NAA', 'NAA', 'NAA', 'NAA', 'NAA', 'NAA'],\n",
       " ['Why',\n",
       "  'is',\n",
       "  'there',\n",
       "  'a',\n",
       "  'debit',\n",
       "  'on',\n",
       "  'my',\n",
       "  'account',\n",
       "  'CC467-923-624',\n",
       "  'on',\n",
       "  '10-09-2018',\n",
       "  '?'],\n",
       " ['NAA',\n",
       "  'NAA',\n",
       "  'NAA',\n",
       "  'NAA',\n",
       "  'NAA',\n",
       "  'NAA',\n",
       "  'NAA',\n",
       "  'NAA',\n",
       "  'NAA',\n",
       "  'NAA',\n",
       "  'NAA',\n",
       "  'NAA']]"
      ]
     },
     "execution_count": 3,
     "metadata": {},
     "output_type": "execute_result"
    }
   ],
   "source": [
    "#import libraries\n",
    "\n",
    "import nltk\n",
    "import sklearn_crfsuite\n",
    "\n",
    "stmt1='My account number is SB100-abc-200'\n",
    "stmt2='Can you please tell the balance for CA499-243-520'\n",
    "stmt3='Why is there a debit on my account CC467-923-624 on 10-09-2018 ?'\n",
    "mydata=[]\n",
    "stmtlist=[stmt1,stmt2,stmt3]\n",
    "\n",
    "for stmt in stmtlist:\n",
    "    stmtw=nltk.word_tokenize(stmt)\n",
    "    stmtl=['NAA' for x in stmtw]\n",
    "    mydata.append(stmtw)\n",
    "    mydata.append(stmtl)\n",
    "mydata"
   ]
  },
  {
   "cell_type": "code",
   "execution_count": 7,
   "metadata": {},
   "outputs": [],
   "source": [
    "data=[(['My','account','number','is','SB100-abc-200'],['NAA','NAA','NAA','NAA','ACCT']),(['Can','you','please','tell','the','balance','for','CA499-243-520'],['NAA','NAA','NAA','NAA','NAA','NAA','NAA','ACCT']),(['Why','is','there','a','debit','on','my','account','CC467-923-624','on','10-09-2018','?'],\n",
    "['NAA','NAA','NAA','NAA','NAA','NAA','NAA','NAA','ACCT','NAA','NAA','NAA'])]"
   ]
  },
  {
   "cell_type": "code",
   "execution_count": 29,
   "metadata": {},
   "outputs": [
    {
     "name": "stdout",
     "output_type": "stream",
     "text": [
      "[('My', 'NAA'), ('account', 'NAA'), ('number', 'NAA'), ('is', 'NAA'), ('SB100-abc-200', 'ACCT')]\n",
      "[('Can', 'NAA'), ('you', 'NAA'), ('please', 'NAA'), ('tell', 'NAA'), ('the', 'NAA'), ('balance', 'NAA'), ('for', 'NAA'), ('CA499-243-520', 'ACCT')]\n",
      "[('Why', 'NAA'), ('is', 'NAA'), ('there', 'NAA'), ('a', 'NAA'), ('debit', 'NAA'), ('on', 'NAA'), ('my', 'NAA'), ('account', 'NAA'), ('CC467-923-624', 'ACCT'), ('on', 'NAA'), ('10-09-2018', 'NAA'), ('?', 'NAA')]\n",
      "[[('My', 'NAA'), ('account', 'NAA'), ('number', 'NAA'), ('is', 'NAA'), ('SB100-abc-200', 'ACCT')], [('Can', 'NAA'), ('you', 'NAA'), ('please', 'NAA'), ('tell', 'NAA'), ('the', 'NAA'), ('balance', 'NAA'), ('for', 'NAA'), ('CA499-243-520', 'ACCT')], [('Why', 'NAA'), ('is', 'NAA'), ('there', 'NAA'), ('a', 'NAA'), ('debit', 'NAA'), ('on', 'NAA'), ('my', 'NAA'), ('account', 'NAA'), ('CC467-923-624', 'ACCT'), ('on', 'NAA'), ('10-09-2018', 'NAA'), ('?', 'NAA')]]\n",
      "[(['My', 'account', 'number', 'is', 'SB100-abc-200'], ['NAA', 'NAA', 'NAA', 'NAA', 'ACCT']), (['Can', 'you', 'please', 'tell', 'the', 'balance', 'for', 'CA499-243-520'], ['NAA', 'NAA', 'NAA', 'NAA', 'NAA', 'NAA', 'NAA', 'ACCT']), (['Why', 'is', 'there', 'a', 'debit', 'on', 'my', 'account', 'CC467-923-624', 'on', '10-09-2018', '?'], ['NAA', 'NAA', 'NAA', 'NAA', 'NAA', 'NAA', 'NAA', 'NAA', 'ACCT', 'NAA', 'NAA', 'NAA'])]\n"
     ]
    }
   ],
   "source": [
    "def create_corpus(data):\n",
    "    lcorpus=[]\n",
    "    for (doc,tags) in data:\n",
    "        doc_tag=[]\n",
    "        for word,tag in zip(doc,tags):\n",
    "            doc_tag.append((word,tag))\n",
    "        lcorpus.append(doc_tag)\n",
    "        print(doc_tag)\n",
    "        \n",
    "    return lcorpus\n",
    "corpus=create_corpus(data)\n",
    "# testcorpus=create_corpus(test)\n",
    "print(corpus)\n",
    "print(data)"
   ]
  },
  {
   "cell_type": "code",
   "execution_count": 10,
   "metadata": {},
   "outputs": [
    {
     "name": "stdout",
     "output_type": "stream",
     "text": [
      "{'currword': 'My', 'BOS': True, 'nextword': 'account'}\n",
      "{'currword': 'account', 'prevword': 'My', 'nextword': 'number'}\n",
      "{'currword': 'number', 'prevword': 'account', 'nextword': 'is'}\n",
      "{'currword': 'is', 'prevword': 'number', 'nextword': 'SB100-abc-200'}\n",
      "{'currword': 'SB100-abc-200', 'prevword': 'is', 'EOS': True}\n",
      "{'currword': 'Can', 'BOS': True, 'nextword': 'you'}\n",
      "{'currword': 'you', 'prevword': 'Can', 'nextword': 'please'}\n",
      "{'currword': 'please', 'prevword': 'you', 'nextword': 'tell'}\n",
      "{'currword': 'tell', 'prevword': 'please', 'nextword': 'the'}\n",
      "{'currword': 'the', 'prevword': 'tell', 'nextword': 'balance'}\n",
      "{'currword': 'balance', 'prevword': 'the', 'nextword': 'for'}\n",
      "{'currword': 'for', 'prevword': 'balance', 'nextword': 'CA499-243-520'}\n",
      "{'currword': 'CA499-243-520', 'prevword': 'for', 'EOS': True}\n",
      "{'currword': 'Why', 'BOS': True, 'nextword': 'is'}\n",
      "{'currword': 'is', 'prevword': 'Why', 'nextword': 'there'}\n",
      "{'currword': 'there', 'prevword': 'is', 'nextword': 'a'}\n",
      "{'currword': 'a', 'prevword': 'there', 'nextword': 'debit'}\n",
      "{'currword': 'debit', 'prevword': 'a', 'nextword': 'on'}\n",
      "{'currword': 'on', 'prevword': 'debit', 'nextword': 'my'}\n",
      "{'currword': 'my', 'prevword': 'on', 'nextword': 'account'}\n",
      "{'currword': 'account', 'prevword': 'my', 'nextword': 'CC467-923-624'}\n",
      "{'currword': 'CC467-923-624', 'prevword': 'account', 'nextword': 'on'}\n",
      "{'currword': 'on', 'prevword': 'CC467-923-624', 'nextword': '10-09-2018'}\n",
      "{'currword': '10-09-2018', 'prevword': 'on', 'nextword': '?'}\n",
      "{'currword': '?', 'prevword': '10-09-2018', 'EOS': True}\n",
      "[['NAA', 'NAA', 'NAA', 'NAA', 'ACCT'], ['NAA', 'NAA', 'NAA', 'NAA', 'NAA', 'NAA', 'NAA', 'ACCT'], ['NAA', 'NAA', 'NAA', 'NAA', 'NAA', 'NAA', 'NAA', 'NAA', 'ACCT', 'NAA', 'NAA', 'NAA']]\n"
     ]
    }
   ],
   "source": [
    "def convert_document_to_feature_functions(document,i):\n",
    "    word=document[i][0]\n",
    "    \n",
    "    features={'currword':word,}\n",
    "    \n",
    "    if i>0:\n",
    "        prevword=document[i-1][0]\n",
    "        features['prevword']=prevword\n",
    "    else:\n",
    "        features['BOS']=True # Special \"Beginning of Sequence\" tag\n",
    "    \n",
    "    if i<len(document)-1:\n",
    "        nextword=document[i+1][0]\n",
    "        features['nextword']=nextword\n",
    "    else:\n",
    "        features['EOS']=True # Special \"End of Sequence\" tag\n",
    "    return features\n",
    "\n",
    "def extract_features(doc):\n",
    "    features=[]\n",
    "    for i in range(len(doc)):\n",
    "        feat=convert_document_to_feature_functions(doc,i)\n",
    "        features.append(feat)\n",
    "    return features\n",
    "\n",
    "X=[extract_features(doc) for doc in corpus]\n",
    "\n",
    "for x in X:\n",
    "    for dictx in x:\n",
    "        print(dictx)\n",
    "        \n",
    "def sentences_labels(doc):\n",
    "    return [tag for (token,tag) in doc]\n",
    "\n",
    "y=[sentences_labels(doc) for doc in corpus]\n",
    "\n",
    "print(y)"
   ]
  },
  {
   "cell_type": "code",
   "execution_count": 15,
   "metadata": {},
   "outputs": [
    {
     "data": {
      "text/plain": [
       "CRF(algorithm='lbfgs', all_possible_states=None,\n",
       "  all_possible_transitions=False, averaging=None, c=None, c1=0.1, c2=0.1,\n",
       "  calibration_candidates=None, calibration_eta=None,\n",
       "  calibration_max_trials=None, calibration_rate=None,\n",
       "  calibration_samples=None, delta=None, epsilon=None, error_sensitive=None,\n",
       "  gamma=None, keep_tempfiles=None, linesearch=None, max_iterations=20,\n",
       "  max_linesearch=None, min_freq=None, model_filename=None,\n",
       "  num_memories=None, pa_type=None, period=None, trainer_cls=None,\n",
       "  variance=None, verbose=False)"
      ]
     },
     "execution_count": 15,
     "metadata": {},
     "output_type": "execute_result"
    }
   ],
   "source": [
    "crf=sklearn_crfsuite.CRF(\n",
    "    algorithm='lbfgs',\n",
    "    c1=0.1,\n",
    "    c2=0.1,\n",
    "    max_iterations=20,\n",
    "    all_possible_transitions=False)\n",
    "\n",
    "crf.fit(X,y)"
   ]
  },
  {
   "cell_type": "code",
   "execution_count": 34,
   "metadata": {},
   "outputs": [
    {
     "name": "stdout",
     "output_type": "stream",
     "text": [
      "Please tell the balance for my account LA233-273-120\n",
      "['NAA', 'NAA', 'NAA', 'NAA', 'NAA', 'NAA', 'NAA', 'ACCT']\n"
     ]
    }
   ],
   "source": [
    "TestText = 'Please tell the balance for my account LA233-273-120'\n",
    "test_token=nltk.word_tokenize(TestText)\n",
    "test=[(x,'No Label') for x in test_token]\n",
    "\n",
    "\n",
    "# tcorpus=create_corpus(test)\n",
    "x_test=extract_features(test)\n",
    "# print(tcorpus)\n",
    "print(TestText)\n",
    "# print(x_test)\n",
    "print(crf.predict_single(x_test))"
   ]
  }
 ],
 "metadata": {
  "kernelspec": {
   "display_name": "Python 3",
   "language": "python",
   "name": "python3"
  },
  "language_info": {
   "codemirror_mode": {
    "name": "ipython",
    "version": 3
   },
   "file_extension": ".py",
   "mimetype": "text/x-python",
   "name": "python",
   "nbconvert_exporter": "python",
   "pygments_lexer": "ipython3",
   "version": "3.7.3"
  }
 },
 "nbformat": 4,
 "nbformat_minor": 2
}

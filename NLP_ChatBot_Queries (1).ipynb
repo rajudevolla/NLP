{
 "cells": [
  {
   "cell_type": "code",
   "execution_count": 1,
   "metadata": {},
   "outputs": [],
   "source": [
    "import nltk\n",
    "import spacy\n",
    "import pandas as pd\n",
    "import numpy as np\n",
    "import random"
   ]
  },
  {
   "cell_type": "markdown",
   "metadata": {},
   "source": [
    "## import countries data into a dataframe"
   ]
  },
  {
   "cell_type": "code",
   "execution_count": 2,
   "metadata": {},
   "outputs": [],
   "source": [
    "df_countries=pd.read_csv('D:\\DataScience\\Datasets\\\\countries of the world.csv')"
   ]
  },
  {
   "cell_type": "code",
   "execution_count": 3,
   "metadata": {},
   "outputs": [],
   "source": [
    "df_countries2=df_countries.iloc[:,[0,1,2,3,4,5,6,7,8,9]]"
   ]
  },
  {
   "cell_type": "code",
   "execution_count": 16,
   "metadata": {},
   "outputs": [
    {
     "name": "stderr",
     "output_type": "stream",
     "text": [
      "C:\\ProgramData\\Anaconda3\\lib\\site-packages\\ipykernel_launcher.py:2: SettingWithCopyWarning: \n",
      "A value is trying to be set on a copy of a slice from a DataFrame.\n",
      "Try using .loc[row_indexer,col_indexer] = value instead\n",
      "\n",
      "See the caveats in the documentation: http://pandas.pydata.org/pandas-docs/stable/indexing.html#indexing-view-versus-copy\n",
      "  \n",
      "C:\\ProgramData\\Anaconda3\\lib\\site-packages\\ipykernel_launcher.py:3: SettingWithCopyWarning: \n",
      "A value is trying to be set on a copy of a slice from a DataFrame.\n",
      "Try using .loc[row_indexer,col_indexer] = value instead\n",
      "\n",
      "See the caveats in the documentation: http://pandas.pydata.org/pandas-docs/stable/indexing.html#indexing-view-versus-copy\n",
      "  This is separate from the ipykernel package so we can avoid doing imports until\n"
     ]
    }
   ],
   "source": [
    "df_countries2.columns=['country','region','population','area','density','coastline','netMigration','mortality','gdp','literacy']\n",
    "df_countries2['country']=df_countries2['country'].str.strip()\n",
    "df_countries2['region']=df_countries2['region'].str.strip()"
   ]
  },
  {
   "cell_type": "code",
   "execution_count": 5,
   "metadata": {},
   "outputs": [
    {
     "data": {
      "text/html": [
       "<div>\n",
       "<style scoped>\n",
       "    .dataframe tbody tr th:only-of-type {\n",
       "        vertical-align: middle;\n",
       "    }\n",
       "\n",
       "    .dataframe tbody tr th {\n",
       "        vertical-align: top;\n",
       "    }\n",
       "\n",
       "    .dataframe thead th {\n",
       "        text-align: right;\n",
       "    }\n",
       "</style>\n",
       "<table border=\"1\" class=\"dataframe\">\n",
       "  <thead>\n",
       "    <tr style=\"text-align: right;\">\n",
       "      <th></th>\n",
       "      <th>country</th>\n",
       "      <th>region</th>\n",
       "      <th>population</th>\n",
       "      <th>area</th>\n",
       "      <th>density</th>\n",
       "      <th>coastline</th>\n",
       "      <th>netMigration</th>\n",
       "      <th>mortality</th>\n",
       "      <th>gdp</th>\n",
       "      <th>literacy</th>\n",
       "    </tr>\n",
       "  </thead>\n",
       "  <tbody>\n",
       "    <tr>\n",
       "      <th>0</th>\n",
       "      <td>Afghanistan</td>\n",
       "      <td>ASIA (EX. NEAR EAST)</td>\n",
       "      <td>31056997</td>\n",
       "      <td>647500</td>\n",
       "      <td>48,0</td>\n",
       "      <td>0,00</td>\n",
       "      <td>23,06</td>\n",
       "      <td>163,07</td>\n",
       "      <td>700.0</td>\n",
       "      <td>36,0</td>\n",
       "    </tr>\n",
       "    <tr>\n",
       "      <th>1</th>\n",
       "      <td>Albania</td>\n",
       "      <td>EASTERN EUROPE</td>\n",
       "      <td>3581655</td>\n",
       "      <td>28748</td>\n",
       "      <td>124,6</td>\n",
       "      <td>1,26</td>\n",
       "      <td>-4,93</td>\n",
       "      <td>21,52</td>\n",
       "      <td>4500.0</td>\n",
       "      <td>86,5</td>\n",
       "    </tr>\n",
       "    <tr>\n",
       "      <th>2</th>\n",
       "      <td>Algeria</td>\n",
       "      <td>NORTHERN AFRICA</td>\n",
       "      <td>32930091</td>\n",
       "      <td>2381740</td>\n",
       "      <td>13,8</td>\n",
       "      <td>0,04</td>\n",
       "      <td>-0,39</td>\n",
       "      <td>31</td>\n",
       "      <td>6000.0</td>\n",
       "      <td>70,0</td>\n",
       "    </tr>\n",
       "    <tr>\n",
       "      <th>3</th>\n",
       "      <td>American Samoa</td>\n",
       "      <td>OCEANIA</td>\n",
       "      <td>57794</td>\n",
       "      <td>199</td>\n",
       "      <td>290,4</td>\n",
       "      <td>58,29</td>\n",
       "      <td>-20,71</td>\n",
       "      <td>9,27</td>\n",
       "      <td>8000.0</td>\n",
       "      <td>97,0</td>\n",
       "    </tr>\n",
       "    <tr>\n",
       "      <th>4</th>\n",
       "      <td>Andorra</td>\n",
       "      <td>WESTERN EUROPE</td>\n",
       "      <td>71201</td>\n",
       "      <td>468</td>\n",
       "      <td>152,1</td>\n",
       "      <td>0,00</td>\n",
       "      <td>6,6</td>\n",
       "      <td>4,05</td>\n",
       "      <td>19000.0</td>\n",
       "      <td>100,0</td>\n",
       "    </tr>\n",
       "  </tbody>\n",
       "</table>\n",
       "</div>"
      ],
      "text/plain": [
       "           country                               region  population     area  \\\n",
       "0     Afghanistan         ASIA (EX. NEAR EAST)             31056997   647500   \n",
       "1         Albania   EASTERN EUROPE                          3581655    28748   \n",
       "2         Algeria   NORTHERN AFRICA                        32930091  2381740   \n",
       "3  American Samoa   OCEANIA                                   57794      199   \n",
       "4         Andorra   WESTERN EUROPE                            71201      468   \n",
       "\n",
       "  density coastline netMigration mortality      gdp literacy  \n",
       "0    48,0      0,00        23,06    163,07    700.0     36,0  \n",
       "1   124,6      1,26        -4,93     21,52   4500.0     86,5  \n",
       "2    13,8      0,04        -0,39        31   6000.0     70,0  \n",
       "3   290,4     58,29       -20,71      9,27   8000.0     97,0  \n",
       "4   152,1      0,00          6,6      4,05  19000.0    100,0  "
      ]
     },
     "execution_count": 5,
     "metadata": {},
     "output_type": "execute_result"
    }
   ],
   "source": [
    "df_countries2.head()"
   ]
  },
  {
   "cell_type": "code",
   "execution_count": 6,
   "metadata": {},
   "outputs": [
    {
     "name": "stdout",
     "output_type": "stream",
     "text": [
      "population NOUN\n",
      "of ADP\n",
      "Norway PROPN\n",
      "Norway GPE\n"
     ]
    }
   ],
   "source": [
    "nlp=spacy.load('en')\n",
    "text='population of Norway'\n",
    "doc=nlp(text)\n",
    "for ent in doc:\n",
    "    print(ent.text,ent.pos_)\n",
    "for ent in doc.ents:\n",
    "    print(ent.text,ent.label_)"
   ]
  },
  {
   "cell_type": "code",
   "execution_count": 7,
   "metadata": {},
   "outputs": [],
   "source": [
    "greeting_input_texts = (\"hey\", \"heys\", \"hello\", \"morning\", \"evening\",\"greetings\",\"hi\",\"hei\")\n",
    "greeting_replie_texts = [\"hey\", \"hey hows you?\", \"*nods*\", \"hello there\", \"hello\", \"Welcome, how are you\"]\n",
    " \n",
    "def reply_greeting(text):\n",
    " \n",
    "    for word in text.split():\n",
    "        if word.lower() in greeting_input_texts:\n",
    "            return random.choice(greeting_replie_texts)"
   ]
  },
  {
   "cell_type": "code",
   "execution_count": 21,
   "metadata": {},
   "outputs": [],
   "source": [
    "def give_reply(text):\n",
    "    print(text)\n",
    "    doc=nlp(text)\n",
    "    countries=[token.text for token in doc.ents if token.label_==\"GPE\"]\n",
    "    print(countries)\n",
    "    if len(countries)==0:\n",
    "        return 'country name is not specified in the question'\n",
    "    else:\n",
    "        columns=[token.text for token in doc if token.pos_=='NOUN' or token.pos_=='PROPN' ]\n",
    "#         print(columns)\n",
    "        columns=list(set(columns)-set(countries))\n",
    "        print(columns)\n",
    "#     df_countries[df_countries.Country.isin(countries)]\n",
    "        return df_countries2[df_countries2.country.isin(countries)][columns].iloc[0,0]"
   ]
  },
  {
   "cell_type": "code",
   "execution_count": 22,
   "metadata": {
    "scrolled": false
   },
   "outputs": [
    {
     "name": "stdout",
     "output_type": "stream",
     "text": [
      "population of Sweden\n",
      "['Sweden']\n",
      "['population']\n"
     ]
    },
    {
     "data": {
      "text/plain": [
       "9016596"
      ]
     },
     "execution_count": 22,
     "metadata": {},
     "output_type": "execute_result"
    }
   ],
   "source": [
    "give_reply('population of Sweden')"
   ]
  },
  {
   "cell_type": "code",
   "execution_count": null,
   "metadata": {},
   "outputs": [],
   "source": [
    "continue_discussion=True\n",
    "print(\"Hello, I am a chatbot, I will answer your queries regarding countries\")\n",
    "while(continue_discussion==True):\n",
    "    user_input = input()\n",
    "    if(user_input !='bye'):\n",
    "        if(user_input =='thanks' or user_input =='thank you very much'  or user_input =='thank you'):\n",
    "            continue_discussion=False\n",
    "            print(\"Chatbot: Most welcome\")\n",
    "        else:\n",
    "            if(reply_greeting(user_input)!=None):\n",
    "                print(\"Chatbot: \"+reply_greeting(user_input))\n",
    "            else:\n",
    "                print(\"Chatbot: \",end=\"\")\n",
    "                print(give_reply(user_input))\n",
    "#                 sentence_list.remove(user_input)\n",
    "    else:\n",
    "        continue_discussion=False\n",
    "        print(\"Chatbot: Take care, bye ..\")"
   ]
  }
 ],
 "metadata": {
  "kernelspec": {
   "display_name": "Python 3",
   "language": "python",
   "name": "python3"
  },
  "language_info": {
   "codemirror_mode": {
    "name": "ipython",
    "version": 3
   },
   "file_extension": ".py",
   "mimetype": "text/x-python",
   "name": "python",
   "nbconvert_exporter": "python",
   "pygments_lexer": "ipython3",
   "version": "3.7.3"
  }
 },
 "nbformat": 4,
 "nbformat_minor": 2
}
